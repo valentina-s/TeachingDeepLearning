{
  "cells": [
    {
      "cell_type": "markdown",
      "metadata": {
        "id": "gJ4BpnMuaYk4"
      },
      "source": [
        "# Simple MNIST convnet\n",
        "\n",
        "**Author:** [fchollet](https://twitter.com/fchollet)<br>\n",
        "**Date created:** 2015/06/19<br>\n",
        "**Last modified:** 2020/04/21<br>\n",
        "**Description:** A simple convnet that achieves ~99% test accuracy on MNIST."
      ]
    },
    {
      "cell_type": "markdown",
      "metadata": {
        "id": "1E_62QMCaYk6"
      },
      "source": [
        "## Setup"
      ]
    },
    {
      "cell_type": "code",
      "execution_count": 1,
      "metadata": {
        "id": "LBhTyv3oaYk6"
      },
      "outputs": [],
      "source": [
        "# @title\n",
        "import numpy as np\n",
        "from tensorflow import keras\n",
        "from keras import layers"
      ]
    },
    {
      "cell_type": "code",
      "execution_count": 2,
      "metadata": {
        "id": "0UrFB8z9Thp0"
      },
      "outputs": [],
      "source": [
        "# @title\n",
        "import matplotlib.pyplot as plt"
      ]
    },
    {
      "cell_type": "markdown",
      "metadata": {
        "id": "f-elXgEBaYk7"
      },
      "source": [
        "## Prepare the data"
      ]
    },
    {
      "cell_type": "code",
      "source": [
        "# @title\n",
        "help(keras.datasets.mnist.load_data)"
      ],
      "metadata": {
        "colab": {
          "base_uri": "https://localhost:8080/"
        },
        "id": "wV5N37xLYspm",
        "outputId": "224d1fdd-0bcb-4721-ab82-1e6f10174d9c"
      },
      "execution_count": 3,
      "outputs": [
        {
          "output_type": "stream",
          "name": "stdout",
          "text": [
            "Help on function load_data in module keras.src.datasets.mnist:\n",
            "\n",
            "load_data(path='mnist.npz')\n",
            "    Loads the MNIST dataset.\n",
            "    \n",
            "    This is a dataset of 60,000 28x28 grayscale images of the 10 digits,\n",
            "    along with a test set of 10,000 images.\n",
            "    More info can be found at the\n",
            "    [MNIST homepage](http://yann.lecun.com/exdb/mnist/).\n",
            "    \n",
            "    Args:\n",
            "      path: path where to cache the dataset locally\n",
            "        (relative to `~/.keras/datasets`).\n",
            "    \n",
            "    Returns:\n",
            "      Tuple of NumPy arrays: `(x_train, y_train), (x_test, y_test)`.\n",
            "    \n",
            "    **x_train**: uint8 NumPy array of grayscale image data with shapes\n",
            "      `(60000, 28, 28)`, containing the training data. Pixel values range\n",
            "      from 0 to 255.\n",
            "    \n",
            "    **y_train**: uint8 NumPy array of digit labels (integers in range 0-9)\n",
            "      with shape `(60000,)` for the training data.\n",
            "    \n",
            "    **x_test**: uint8 NumPy array of grayscale image data with shapes\n",
            "      (10000, 28, 28), containing the test data. Pixel values range\n",
            "      from 0 to 255.\n",
            "    \n",
            "    **y_test**: uint8 NumPy array of digit labels (integers in range 0-9)\n",
            "      with shape `(10000,)` for the test data.\n",
            "    \n",
            "    Example:\n",
            "    \n",
            "    ```python\n",
            "    (x_train, y_train), (x_test, y_test) = keras.datasets.mnist.load_data()\n",
            "    assert x_train.shape == (60000, 28, 28)\n",
            "    assert x_test.shape == (10000, 28, 28)\n",
            "    assert y_train.shape == (60000,)\n",
            "    assert y_test.shape == (10000,)\n",
            "    ```\n",
            "    \n",
            "    License:\n",
            "      Yann LeCun and Corinna Cortes hold the copyright of MNIST dataset,\n",
            "      which is a derivative work from original NIST datasets.\n",
            "      MNIST dataset is made available under the terms of the\n",
            "      [Creative Commons Attribution-Share Alike 3.0 license.](\n",
            "      https://creativecommons.org/licenses/by-sa/3.0/)\n",
            "\n"
          ]
        }
      ]
    },
    {
      "cell_type": "code",
      "execution_count": 4,
      "metadata": {
        "colab": {
          "base_uri": "https://localhost:8080/"
        },
        "id": "njdGI81waYk7",
        "outputId": "b5581266-1da4-4241-fc93-c169bfe16fd2"
      },
      "outputs": [
        {
          "output_type": "stream",
          "name": "stdout",
          "text": [
            "Downloading data from https://storage.googleapis.com/tensorflow/tf-keras-datasets/mnist.npz\n",
            "11490434/11490434 [==============================] - 0s 0us/step\n",
            "x_train shape: (60000, 28, 28, 1)\n",
            "60000 train samples\n",
            "10000 test samples\n"
          ]
        }
      ],
      "source": [
        "# @title\n",
        "# Load the data and split it between train and test sets\n",
        "(x_train, y_train), (x_test, y_test) = keras.datasets.mnist.load_data()\n",
        "\n",
        "# Scale images to the [0, 1] range\n",
        "x_train = x_train.astype(\"float32\") / 255\n",
        "x_test = x_test.astype(\"float32\") / 255\n",
        "\n",
        "# Make sure images have shape (28, 28, 1)\n",
        "x_train = np.expand_dims(x_train, -1)\n",
        "x_test = np.expand_dims(x_test, -1)\n",
        "input_shape = x_train[0,:,:,:].shape\n",
        "\n",
        "print(\"x_train shape:\", x_train.shape)\n",
        "print(x_train.shape[0], \"train samples\")\n",
        "print(x_test.shape[0], \"test samples\")\n",
        "\n",
        "# convert class vectors to binary class matrices\n",
        "num_classes = 10\n",
        "y_train = keras.utils.to_categorical(y_train, num_classes)\n",
        "y_test = keras.utils.to_categorical(y_test, num_classes)\n"
      ]
    },
    {
      "cell_type": "code",
      "source": [
        "# @title\n",
        "input_shape"
      ],
      "metadata": {
        "colab": {
          "base_uri": "https://localhost:8080/"
        },
        "id": "_OxbFG05c7t3",
        "outputId": "59afcd97-b1cc-4889-94d1-d17e0c333d77"
      },
      "execution_count": 5,
      "outputs": [
        {
          "output_type": "execute_result",
          "data": {
            "text/plain": [
              "(28, 28, 1)"
            ]
          },
          "metadata": {},
          "execution_count": 5
        }
      ]
    },
    {
      "cell_type": "markdown",
      "metadata": {
        "id": "L-smewxJaYk7"
      },
      "source": [
        "## Build the model"
      ]
    },
    {
      "cell_type": "code",
      "source": [
        "# @title\n"
      ],
      "metadata": {
        "id": "crWrAr7Xg-v1"
      },
      "execution_count": 6,
      "outputs": []
    },
    {
      "cell_type": "code",
      "execution_count": 7,
      "metadata": {
        "colab": {
          "base_uri": "https://localhost:8080/"
        },
        "id": "fSIkBGepaYk7",
        "outputId": "54ba215d-4d22-4275-ca4c-e51a1f247936"
      },
      "outputs": [
        {
          "output_type": "stream",
          "name": "stdout",
          "text": [
            "Model: \"sequential\"\n",
            "_________________________________________________________________\n",
            " Layer (type)                Output Shape              Param #   \n",
            "=================================================================\n",
            " conv2d (Conv2D)             (None, 26, 26, 32)        320       \n",
            "                                                                 \n",
            " max_pooling2d (MaxPooling2  (None, 13, 13, 32)        0         \n",
            " D)                                                              \n",
            "                                                                 \n",
            " conv2d_1 (Conv2D)           (None, 11, 11, 64)        18496     \n",
            "                                                                 \n",
            " max_pooling2d_1 (MaxPoolin  (None, 5, 5, 64)          0         \n",
            " g2D)                                                            \n",
            "                                                                 \n",
            " flatten (Flatten)           (None, 1600)              0         \n",
            "                                                                 \n",
            " dense (Dense)               (None, 10)                16010     \n",
            "                                                                 \n",
            "=================================================================\n",
            "Total params: 34826 (136.04 KB)\n",
            "Trainable params: 34826 (136.04 KB)\n",
            "Non-trainable params: 0 (0.00 Byte)\n",
            "_________________________________________________________________\n"
          ]
        }
      ],
      "source": [
        "# @title\n",
        "model = keras.Sequential(\n",
        "    [\n",
        "        keras.Input(shape=input_shape),\n",
        "\n",
        "        # CNN Block 1\n",
        "        layers.Conv2D(filters=32,\n",
        "                      kernel_size=(3, 3),\n",
        "                      activation=\"relu\"),\n",
        "        layers.MaxPooling2D(pool_size=(2, 2)),\n",
        "\n",
        "        # CNN Block 2\n",
        "        layers.Conv2D(filters=64,\n",
        "                      kernel_size=(3, 3),\n",
        "                      activation=\"relu\"),\n",
        "        layers.MaxPooling2D(pool_size=(2, 2)),\n",
        "\n",
        "        # Dense Block\n",
        "        layers.Flatten(),\n",
        "        layers.Dense(num_classes,\n",
        "                     activation=\"softmax\"),\n",
        "    ]\n",
        ")\n",
        "\n",
        "model.summary()"
      ]
    },
    {
      "cell_type": "code",
      "source": [
        "# @title\n",
        "model.summary()"
      ],
      "metadata": {
        "colab": {
          "base_uri": "https://localhost:8080/"
        },
        "id": "AGjE8axzjdOC",
        "outputId": "59dac790-5785-4ff7-abb6-075027a04cae"
      },
      "execution_count": 8,
      "outputs": [
        {
          "output_type": "stream",
          "name": "stdout",
          "text": [
            "Model: \"sequential\"\n",
            "_________________________________________________________________\n",
            " Layer (type)                Output Shape              Param #   \n",
            "=================================================================\n",
            " conv2d (Conv2D)             (None, 26, 26, 32)        320       \n",
            "                                                                 \n",
            " max_pooling2d (MaxPooling2  (None, 13, 13, 32)        0         \n",
            " D)                                                              \n",
            "                                                                 \n",
            " conv2d_1 (Conv2D)           (None, 11, 11, 64)        18496     \n",
            "                                                                 \n",
            " max_pooling2d_1 (MaxPoolin  (None, 5, 5, 64)          0         \n",
            " g2D)                                                            \n",
            "                                                                 \n",
            " flatten (Flatten)           (None, 1600)              0         \n",
            "                                                                 \n",
            " dense (Dense)               (None, 10)                16010     \n",
            "                                                                 \n",
            "=================================================================\n",
            "Total params: 34826 (136.04 KB)\n",
            "Trainable params: 34826 (136.04 KB)\n",
            "Non-trainable params: 0 (0.00 Byte)\n",
            "_________________________________________________________________\n"
          ]
        }
      ]
    },
    {
      "cell_type": "markdown",
      "metadata": {
        "id": "6ZCPy92WaYk7"
      },
      "source": [
        "## Train the model"
      ]
    },
    {
      "cell_type": "code",
      "execution_count": 9,
      "metadata": {
        "colab": {
          "base_uri": "https://localhost:8080/"
        },
        "id": "LqhNIrZsaYk8",
        "outputId": "f5f0fbbd-439b-40c8-8e1d-2a2b6f31c9fb"
      },
      "outputs": [
        {
          "output_type": "stream",
          "name": "stdout",
          "text": [
            "Epoch 1/15\n",
            "422/422 [==============================] - 6s 6ms/step - loss: 0.2882 - accuracy: 0.9162 - val_loss: 0.0752 - val_accuracy: 0.9778\n",
            "Epoch 2/15\n",
            "422/422 [==============================] - 2s 4ms/step - loss: 0.0788 - accuracy: 0.9764 - val_loss: 0.0569 - val_accuracy: 0.9853\n",
            "Epoch 3/15\n",
            "422/422 [==============================] - 2s 4ms/step - loss: 0.0597 - accuracy: 0.9817 - val_loss: 0.0501 - val_accuracy: 0.9847\n",
            "Epoch 4/15\n",
            "422/422 [==============================] - 2s 5ms/step - loss: 0.0468 - accuracy: 0.9860 - val_loss: 0.0441 - val_accuracy: 0.9878\n",
            "Epoch 5/15\n",
            "422/422 [==============================] - 2s 5ms/step - loss: 0.0388 - accuracy: 0.9881 - val_loss: 0.0397 - val_accuracy: 0.9877\n",
            "Epoch 6/15\n",
            "422/422 [==============================] - 2s 5ms/step - loss: 0.0332 - accuracy: 0.9896 - val_loss: 0.0415 - val_accuracy: 0.9877\n",
            "Epoch 7/15\n",
            "422/422 [==============================] - 2s 4ms/step - loss: 0.0287 - accuracy: 0.9911 - val_loss: 0.0420 - val_accuracy: 0.9878\n",
            "Epoch 8/15\n",
            "422/422 [==============================] - 2s 4ms/step - loss: 0.0254 - accuracy: 0.9922 - val_loss: 0.0375 - val_accuracy: 0.9902\n",
            "Epoch 9/15\n",
            "422/422 [==============================] - 2s 4ms/step - loss: 0.0227 - accuracy: 0.9929 - val_loss: 0.0340 - val_accuracy: 0.9908\n",
            "Epoch 10/15\n",
            "422/422 [==============================] - 2s 4ms/step - loss: 0.0192 - accuracy: 0.9937 - val_loss: 0.0446 - val_accuracy: 0.9878\n",
            "Epoch 11/15\n",
            "422/422 [==============================] - 2s 5ms/step - loss: 0.0171 - accuracy: 0.9944 - val_loss: 0.0381 - val_accuracy: 0.9905\n",
            "Epoch 12/15\n",
            "422/422 [==============================] - 2s 5ms/step - loss: 0.0151 - accuracy: 0.9952 - val_loss: 0.0389 - val_accuracy: 0.9903\n",
            "Epoch 13/15\n",
            "422/422 [==============================] - 2s 4ms/step - loss: 0.0125 - accuracy: 0.9960 - val_loss: 0.0378 - val_accuracy: 0.9903\n",
            "Epoch 14/15\n",
            "422/422 [==============================] - 2s 4ms/step - loss: 0.0117 - accuracy: 0.9964 - val_loss: 0.0392 - val_accuracy: 0.9910\n",
            "Epoch 15/15\n",
            "422/422 [==============================] - 2s 4ms/step - loss: 0.0087 - accuracy: 0.9972 - val_loss: 0.0578 - val_accuracy: 0.9853\n"
          ]
        }
      ],
      "source": [
        "# @title\n",
        "batch_size = 128\n",
        "epochs = 15\n",
        "\n",
        "model.compile(loss=\"categorical_crossentropy\", optimizer=\"adam\", metrics=[\"accuracy\"])\n",
        "\n",
        "history = model.fit(x_train, y_train, batch_size=batch_size, epochs=epochs, validation_split=0.1)"
      ]
    },
    {
      "cell_type": "markdown",
      "metadata": {
        "id": "kyBk-r5taYk8"
      },
      "source": [
        "## Evaluate the trained model"
      ]
    },
    {
      "cell_type": "code",
      "source": [
        "# @title\n",
        "# Training and Validation Accuracy\n",
        "epochs = range(1, len(history.history[\"accuracy\"]) + 1)\n",
        "plt.plot(epochs, history.history[\"accuracy\"], 'y', label='Training Accuracy')\n",
        "plt.plot(epochs, history.history[\"val_accuracy\"], 'r', label='Validation Accuracy')\n",
        "plt.title('Training and Validation Accuracy')\n",
        "plt.xlabel('Epochs')\n",
        "plt.ylabel('Accuracy')\n",
        "plt.legend()\n",
        "plt.show()"
      ],
      "metadata": {
        "colab": {
          "base_uri": "https://localhost:8080/",
          "height": 472
        },
        "id": "mGF7FXJY0_d9",
        "outputId": "f35bef61-21cf-4fbf-b6a2-75ebd14d5a55"
      },
      "execution_count": 10,
      "outputs": [
        {
          "output_type": "display_data",
          "data": {
            "text/plain": [
              "<Figure size 640x480 with 1 Axes>"
            ],
            "image/png": "[encoded data removed]"
          },
          "metadata": {}
        }
      ]
    },
    {
      "cell_type": "code",
      "execution_count": 11,
      "metadata": {
        "colab": {
          "base_uri": "https://localhost:8080/"
        },
        "id": "OWjNHIFgaYk8",
        "outputId": "d99463ce-ecac-4aae-b947-f730fff84d15"
      },
      "outputs": [
        {
          "output_type": "stream",
          "name": "stdout",
          "text": [
            "Test loss: 0.04157020524144173\n",
            "Test accuracy: 0.9864000082015991\n"
          ]
        }
      ],
      "source": [
        "# @title\n",
        "# Evaluation on test set\n",
        "score = model.evaluate(x_test, y_test, verbose=0)\n",
        "print(\"Test loss:\", score[0])\n",
        "print(\"Test accuracy:\", score[1])"
      ]
    },
    {
      "cell_type": "code",
      "source": [
        "# @title\n",
        "# Prediction on test set\n",
        "y_pred = model.predict(x_test)\n"
      ],
      "metadata": {
        "colab": {
          "base_uri": "https://localhost:8080/"
        },
        "id": "V5W-L2rK1IXK",
        "outputId": "0240eb66-95d4-4bae-aac3-c282c3cb6a41"
      },
      "execution_count": 12,
      "outputs": [
        {
          "output_type": "stream",
          "name": "stdout",
          "text": [
            "313/313 [==============================] - 1s 2ms/step\n"
          ]
        }
      ]
    },
    {
      "cell_type": "code",
      "source": [
        "# @title\n",
        "from sklearn.metrics import confusion_matrix, ConfusionMatrixDisplay"
      ],
      "metadata": {
        "id": "wfkYvFaFXGnS"
      },
      "execution_count": 13,
      "outputs": []
    },
    {
      "cell_type": "code",
      "source": [
        "# @title\n",
        "y_test.shape"
      ],
      "metadata": {
        "colab": {
          "base_uri": "https://localhost:8080/"
        },
        "id": "XN9r33DwXLRz",
        "outputId": "791fa279-2d1e-403c-ad46-afd6dc25bb39"
      },
      "execution_count": 14,
      "outputs": [
        {
          "output_type": "execute_result",
          "data": {
            "text/plain": [
              "(10000, 10)"
            ]
          },
          "metadata": {},
          "execution_count": 14
        }
      ]
    },
    {
      "cell_type": "code",
      "execution_count": 15,
      "metadata": {
        "id": "hrAlgs-Nak6F"
      },
      "outputs": [],
      "source": [
        "# @title\n",
        "cm = confusion_matrix(y_test.argmax(axis=1), y_pred.argmax(axis=1), normalize='pred')"
      ]
    },
    {
      "cell_type": "code",
      "source": [
        "# @title\n",
        "disp = ConfusionMatrixDisplay(confusion_matrix=cm,\n",
        "                               display_labels=np.arange(10)+1,\n",
        "                               )\n",
        "disp.plot()"
      ],
      "metadata": {
        "colab": {
          "base_uri": "https://localhost:8080/",
          "height": 467
        },
        "id": "6GYy1lQ90vR_",
        "outputId": "e4ac42ab-e610-40f8-9fc5-4ed4e25c916a"
      },
      "execution_count": 16,
      "outputs": [
        {
          "output_type": "execute_result",
          "data": {
            "text/plain": [
              "<sklearn.metrics._plot.confusion_matrix.ConfusionMatrixDisplay at 0x7b96e12342e0>"
            ]
          },
          "metadata": {},
          "execution_count": 16
        },
        {
          "output_type": "display_data",
          "data": {
            "text/plain": [
              "<Figure size 640x480 with 2 Axes>"
            ],
            "image/png": "[encoded data removed]"
          },
          "metadata": {}
        }
      ]
    },
    {
      "cell_type": "code",
      "source": [
        "# @title\n"
      ],
      "metadata": {
        "id": "-u0LaY7ERRKR"
      },
      "execution_count": 17,
      "outputs": []
    }
  ],
  "metadata": {
    "accelerator": "GPU",
    "colab": {
      "provenance": []
    },
    "kernelspec": {
      "display_name": "Python 3",
      "language": "python",
      "name": "python3"
    },
    "language_info": {
      "codemirror_mode": {
        "name": "ipython",
        "version": 3
      },
      "file_extension": ".py",
      "mimetype": "text/x-python",
      "name": "python",
      "nbconvert_exporter": "python",
      "pygments_lexer": "ipython3",
      "version": "3.7.0"
    }
  },
  "nbformat": 4,
  "nbformat_minor": 0
}